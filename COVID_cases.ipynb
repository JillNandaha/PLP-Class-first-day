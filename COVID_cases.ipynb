{
  "nbformat": 4,
  "nbformat_minor": 0,
  "metadata": {
    "colab": {
      "provenance": [],
      "authorship_tag": "ABX9TyPp0iqw9YHIaEBRU4/LBzcW",
      "include_colab_link": true
    },
    "kernelspec": {
      "name": "python3",
      "display_name": "Python 3"
    },
    "language_info": {
      "name": "python"
    }
  },
  "cells": [
    {
      "cell_type": "markdown",
      "metadata": {
        "id": "view-in-github",
        "colab_type": "text"
      },
      "source": [
        "<a href=\"https://colab.research.google.com/github/JillNandaha/PLP-Class-first-day/blob/main/COVID_cases.ipynb\" target=\"_parent\"><img src=\"https://colab.research.google.com/assets/colab-badge.svg\" alt=\"Open In Colab\"/></a>"
      ]
    },
    {
      "cell_type": "code",
      "execution_count": 1,
      "metadata": {
        "id": "M3ko3GCq1O_H"
      },
      "outputs": [],
      "source": [
        "import numpy as np\n",
        "import pandas as pd\n",
        "import matplotlib.pyplot as plt\n",
        "import seaborn as sns"
      ]
    },
    {
      "cell_type": "code",
      "source": [
        "from google.colab import files\n",
        "uploaded = files.upload()\n"
      ],
      "metadata": {
        "colab": {
          "base_uri": "https://localhost:8080/",
          "height": 73
        },
        "id": "yfU2PFhb1oD5",
        "outputId": "a15169cc-0351-4992-d827-b87bc899d153"
      },
      "execution_count": 2,
      "outputs": [
        {
          "output_type": "display_data",
          "data": {
            "text/plain": [
              "<IPython.core.display.HTML object>"
            ],
            "text/html": [
              "\n",
              "     <input type=\"file\" id=\"files-194be28b-dcad-4f10-abc9-162dd6dc96cd\" name=\"files[]\" multiple disabled\n",
              "        style=\"border:none\" />\n",
              "     <output id=\"result-194be28b-dcad-4f10-abc9-162dd6dc96cd\">\n",
              "      Upload widget is only available when the cell has been executed in the\n",
              "      current browser session. Please rerun this cell to enable.\n",
              "      </output>\n",
              "      <script>// Copyright 2017 Google LLC\n",
              "//\n",
              "// Licensed under the Apache License, Version 2.0 (the \"License\");\n",
              "// you may not use this file except in compliance with the License.\n",
              "// You may obtain a copy of the License at\n",
              "//\n",
              "//      http://www.apache.org/licenses/LICENSE-2.0\n",
              "//\n",
              "// Unless required by applicable law or agreed to in writing, software\n",
              "// distributed under the License is distributed on an \"AS IS\" BASIS,\n",
              "// WITHOUT WARRANTIES OR CONDITIONS OF ANY KIND, either express or implied.\n",
              "// See the License for the specific language governing permissions and\n",
              "// limitations under the License.\n",
              "\n",
              "/**\n",
              " * @fileoverview Helpers for google.colab Python module.\n",
              " */\n",
              "(function(scope) {\n",
              "function span(text, styleAttributes = {}) {\n",
              "  const element = document.createElement('span');\n",
              "  element.textContent = text;\n",
              "  for (const key of Object.keys(styleAttributes)) {\n",
              "    element.style[key] = styleAttributes[key];\n",
              "  }\n",
              "  return element;\n",
              "}\n",
              "\n",
              "// Max number of bytes which will be uploaded at a time.\n",
              "const MAX_PAYLOAD_SIZE = 100 * 1024;\n",
              "\n",
              "function _uploadFiles(inputId, outputId) {\n",
              "  const steps = uploadFilesStep(inputId, outputId);\n",
              "  const outputElement = document.getElementById(outputId);\n",
              "  // Cache steps on the outputElement to make it available for the next call\n",
              "  // to uploadFilesContinue from Python.\n",
              "  outputElement.steps = steps;\n",
              "\n",
              "  return _uploadFilesContinue(outputId);\n",
              "}\n",
              "\n",
              "// This is roughly an async generator (not supported in the browser yet),\n",
              "// where there are multiple asynchronous steps and the Python side is going\n",
              "// to poll for completion of each step.\n",
              "// This uses a Promise to block the python side on completion of each step,\n",
              "// then passes the result of the previous step as the input to the next step.\n",
              "function _uploadFilesContinue(outputId) {\n",
              "  const outputElement = document.getElementById(outputId);\n",
              "  const steps = outputElement.steps;\n",
              "\n",
              "  const next = steps.next(outputElement.lastPromiseValue);\n",
              "  return Promise.resolve(next.value.promise).then((value) => {\n",
              "    // Cache the last promise value to make it available to the next\n",
              "    // step of the generator.\n",
              "    outputElement.lastPromiseValue = value;\n",
              "    return next.value.response;\n",
              "  });\n",
              "}\n",
              "\n",
              "/**\n",
              " * Generator function which is called between each async step of the upload\n",
              " * process.\n",
              " * @param {string} inputId Element ID of the input file picker element.\n",
              " * @param {string} outputId Element ID of the output display.\n",
              " * @return {!Iterable<!Object>} Iterable of next steps.\n",
              " */\n",
              "function* uploadFilesStep(inputId, outputId) {\n",
              "  const inputElement = document.getElementById(inputId);\n",
              "  inputElement.disabled = false;\n",
              "\n",
              "  const outputElement = document.getElementById(outputId);\n",
              "  outputElement.innerHTML = '';\n",
              "\n",
              "  const pickedPromise = new Promise((resolve) => {\n",
              "    inputElement.addEventListener('change', (e) => {\n",
              "      resolve(e.target.files);\n",
              "    });\n",
              "  });\n",
              "\n",
              "  const cancel = document.createElement('button');\n",
              "  inputElement.parentElement.appendChild(cancel);\n",
              "  cancel.textContent = 'Cancel upload';\n",
              "  const cancelPromise = new Promise((resolve) => {\n",
              "    cancel.onclick = () => {\n",
              "      resolve(null);\n",
              "    };\n",
              "  });\n",
              "\n",
              "  // Wait for the user to pick the files.\n",
              "  const files = yield {\n",
              "    promise: Promise.race([pickedPromise, cancelPromise]),\n",
              "    response: {\n",
              "      action: 'starting',\n",
              "    }\n",
              "  };\n",
              "\n",
              "  cancel.remove();\n",
              "\n",
              "  // Disable the input element since further picks are not allowed.\n",
              "  inputElement.disabled = true;\n",
              "\n",
              "  if (!files) {\n",
              "    return {\n",
              "      response: {\n",
              "        action: 'complete',\n",
              "      }\n",
              "    };\n",
              "  }\n",
              "\n",
              "  for (const file of files) {\n",
              "    const li = document.createElement('li');\n",
              "    li.append(span(file.name, {fontWeight: 'bold'}));\n",
              "    li.append(span(\n",
              "        `(${file.type || 'n/a'}) - ${file.size} bytes, ` +\n",
              "        `last modified: ${\n",
              "            file.lastModifiedDate ? file.lastModifiedDate.toLocaleDateString() :\n",
              "                                    'n/a'} - `));\n",
              "    const percent = span('0% done');\n",
              "    li.appendChild(percent);\n",
              "\n",
              "    outputElement.appendChild(li);\n",
              "\n",
              "    const fileDataPromise = new Promise((resolve) => {\n",
              "      const reader = new FileReader();\n",
              "      reader.onload = (e) => {\n",
              "        resolve(e.target.result);\n",
              "      };\n",
              "      reader.readAsArrayBuffer(file);\n",
              "    });\n",
              "    // Wait for the data to be ready.\n",
              "    let fileData = yield {\n",
              "      promise: fileDataPromise,\n",
              "      response: {\n",
              "        action: 'continue',\n",
              "      }\n",
              "    };\n",
              "\n",
              "    // Use a chunked sending to avoid message size limits. See b/62115660.\n",
              "    let position = 0;\n",
              "    do {\n",
              "      const length = Math.min(fileData.byteLength - position, MAX_PAYLOAD_SIZE);\n",
              "      const chunk = new Uint8Array(fileData, position, length);\n",
              "      position += length;\n",
              "\n",
              "      const base64 = btoa(String.fromCharCode.apply(null, chunk));\n",
              "      yield {\n",
              "        response: {\n",
              "          action: 'append',\n",
              "          file: file.name,\n",
              "          data: base64,\n",
              "        },\n",
              "      };\n",
              "\n",
              "      let percentDone = fileData.byteLength === 0 ?\n",
              "          100 :\n",
              "          Math.round((position / fileData.byteLength) * 100);\n",
              "      percent.textContent = `${percentDone}% done`;\n",
              "\n",
              "    } while (position < fileData.byteLength);\n",
              "  }\n",
              "\n",
              "  // All done.\n",
              "  yield {\n",
              "    response: {\n",
              "      action: 'complete',\n",
              "    }\n",
              "  };\n",
              "}\n",
              "\n",
              "scope.google = scope.google || {};\n",
              "scope.google.colab = scope.google.colab || {};\n",
              "scope.google.colab._files = {\n",
              "  _uploadFiles,\n",
              "  _uploadFilesContinue,\n",
              "};\n",
              "})(self);\n",
              "</script> "
            ]
          },
          "metadata": {}
        },
        {
          "output_type": "stream",
          "name": "stdout",
          "text": [
            "Saving country_wise_latest.csv to country_wise_latest.csv\n"
          ]
        }
      ]
    },
    {
      "cell_type": "code",
      "source": [
        "import pandas as pd\n",
        "\n",
        "# Replace with your actual file name\n",
        "df = pd.read_csv(\"country_wise_latest.csv\")\n",
        "print(df.head())\n"
      ],
      "metadata": {
        "colab": {
          "base_uri": "https://localhost:8080/"
        },
        "id": "Yfwh652i3u5R",
        "outputId": "97867c8c-d8b6-4235-9c0d-31a5f00259dd"
      },
      "execution_count": 3,
      "outputs": [
        {
          "output_type": "stream",
          "name": "stdout",
          "text": [
            "  Country/Region  Confirmed  Deaths  Recovered  Active  New cases  New deaths  \\\n",
            "0    Afghanistan      36263    1269      25198    9796        106          10   \n",
            "1        Albania       4880     144       2745    1991        117           6   \n",
            "2        Algeria      27973    1163      18837    7973        616           8   \n",
            "3        Andorra        907      52        803      52         10           0   \n",
            "4         Angola        950      41        242     667         18           1   \n",
            "\n",
            "   New recovered  Deaths / 100 Cases  Recovered / 100 Cases  \\\n",
            "0             18                3.50                  69.49   \n",
            "1             63                2.95                  56.25   \n",
            "2            749                4.16                  67.34   \n",
            "3              0                5.73                  88.53   \n",
            "4              0                4.32                  25.47   \n",
            "\n",
            "   Deaths / 100 Recovered  Confirmed last week  1 week change  \\\n",
            "0                    5.04                35526            737   \n",
            "1                    5.25                 4171            709   \n",
            "2                    6.17                23691           4282   \n",
            "3                    6.48                  884             23   \n",
            "4                   16.94                  749            201   \n",
            "\n",
            "   1 week % increase             WHO Region  \n",
            "0               2.07  Eastern Mediterranean  \n",
            "1              17.00                 Europe  \n",
            "2              18.07                 Africa  \n",
            "3               2.60                 Europe  \n",
            "4              26.84                 Africa  \n"
          ]
        }
      ]
    },
    {
      "cell_type": "code",
      "source": [
        "print(df.columns)"
      ],
      "metadata": {
        "colab": {
          "base_uri": "https://localhost:8080/"
        },
        "id": "t8jlgfdd4CfL",
        "outputId": "2f9ff389-c685-40cb-81d8-ccc7b6e582a8"
      },
      "execution_count": 4,
      "outputs": [
        {
          "output_type": "stream",
          "name": "stdout",
          "text": [
            "Index(['Country/Region', 'Confirmed', 'Deaths', 'Recovered', 'Active',\n",
            "       'New cases', 'New deaths', 'New recovered', 'Deaths / 100 Cases',\n",
            "       'Recovered / 100 Cases', 'Deaths / 100 Recovered',\n",
            "       'Confirmed last week', '1 week change', '1 week % increase',\n",
            "       'WHO Region'],\n",
            "      dtype='object')\n"
          ]
        }
      ]
    },
    {
      "cell_type": "code",
      "source": [
        "print(df.head())"
      ],
      "metadata": {
        "colab": {
          "base_uri": "https://localhost:8080/"
        },
        "id": "IRoRUUzx4FEp",
        "outputId": "26b72b32-84a1-401c-8f29-dec31b67c83c"
      },
      "execution_count": 5,
      "outputs": [
        {
          "output_type": "stream",
          "name": "stdout",
          "text": [
            "  Country/Region  Confirmed  Deaths  Recovered  Active  New cases  New deaths  \\\n",
            "0    Afghanistan      36263    1269      25198    9796        106          10   \n",
            "1        Albania       4880     144       2745    1991        117           6   \n",
            "2        Algeria      27973    1163      18837    7973        616           8   \n",
            "3        Andorra        907      52        803      52         10           0   \n",
            "4         Angola        950      41        242     667         18           1   \n",
            "\n",
            "   New recovered  Deaths / 100 Cases  Recovered / 100 Cases  \\\n",
            "0             18                3.50                  69.49   \n",
            "1             63                2.95                  56.25   \n",
            "2            749                4.16                  67.34   \n",
            "3              0                5.73                  88.53   \n",
            "4              0                4.32                  25.47   \n",
            "\n",
            "   Deaths / 100 Recovered  Confirmed last week  1 week change  \\\n",
            "0                    5.04                35526            737   \n",
            "1                    5.25                 4171            709   \n",
            "2                    6.17                23691           4282   \n",
            "3                    6.48                  884             23   \n",
            "4                   16.94                  749            201   \n",
            "\n",
            "   1 week % increase             WHO Region  \n",
            "0               2.07  Eastern Mediterranean  \n",
            "1              17.00                 Europe  \n",
            "2              18.07                 Africa  \n",
            "3               2.60                 Europe  \n",
            "4              26.84                 Africa  \n"
          ]
        }
      ]
    },
    {
      "cell_type": "code",
      "source": [
        "print(df.isnull().sum())"
      ],
      "metadata": {
        "colab": {
          "base_uri": "https://localhost:8080/"
        },
        "id": "QW7dtWmY4NH1",
        "outputId": "1ddea89b-8fe1-47ad-8d12-c928bf20d0ca"
      },
      "execution_count": 6,
      "outputs": [
        {
          "output_type": "stream",
          "name": "stdout",
          "text": [
            "Country/Region            0\n",
            "Confirmed                 0\n",
            "Deaths                    0\n",
            "Recovered                 0\n",
            "Active                    0\n",
            "New cases                 0\n",
            "New deaths                0\n",
            "New recovered             0\n",
            "Deaths / 100 Cases        0\n",
            "Recovered / 100 Cases     0\n",
            "Deaths / 100 Recovered    0\n",
            "Confirmed last week       0\n",
            "1 week change             0\n",
            "1 week % increase         0\n",
            "WHO Region                0\n",
            "dtype: int64\n"
          ]
        }
      ]
    },
    {
      "cell_type": "code",
      "source": [
        "selected_countries = ['India', 'Kenya']\n",
        "filtered_df = df[df['Country/Region'].isin(selected_countries)]\n",
        "\n",
        "columns_of_interest = [\n",
        "    'Country/Region', 'Confirmed', 'Deaths', 'Recovered', 'Active',\n",
        "    'New cases', 'New deaths', 'New recovered', 'Deaths / 100 Cases',\n",
        "    'Recovered / 100 Cases', 'Deaths / 100 Recovered'\n",
        "]\n",
        "\n",
        "filtered_df = filtered_df[columns_of_interest]\n",
        "print(filtered_df)\n"
      ],
      "metadata": {
        "colab": {
          "base_uri": "https://localhost:8080/"
        },
        "id": "7okaHh9q4PZM",
        "outputId": "1f74df38-b3ab-4345-a619-5fa3d6601e60"
      },
      "execution_count": 7,
      "outputs": [
        {
          "output_type": "stream",
          "name": "stdout",
          "text": [
            "   Country/Region  Confirmed  Deaths  Recovered  Active  New cases  \\\n",
            "79          India    1480073   33408     951166  495499      44457   \n",
            "90          Kenya      17975     285       7833    9857        372   \n",
            "\n",
            "    New deaths  New recovered  Deaths / 100 Cases  Recovered / 100 Cases  \\\n",
            "79         637          33598                2.26                  64.26   \n",
            "90           5             90                1.59                  43.58   \n",
            "\n",
            "    Deaths / 100 Recovered  \n",
            "79                    3.51  \n",
            "90                    3.64  \n"
          ]
        }
      ]
    },
    {
      "cell_type": "code",
      "source": [
        "import matplotlib.pyplot as plt\n",
        "\n",
        "labels = filtered_df['Country/Region']\n",
        "confirmed = filtered_df['Confirmed']\n",
        "deaths = filtered_df['Deaths']\n",
        "recovered = filtered_df['Recovered']\n",
        "\n",
        "x = range(len(labels))\n",
        "\n",
        "plt.figure(figsize=(10, 6))\n",
        "plt.bar(x, confirmed, width=0.25, label='Confirmed', align='center')\n",
        "plt.bar([i + 0.25 for i in x], deaths, width=0.25, label='Deaths', align='center')\n",
        "plt.bar([i + 0.50 for i in x], recovered, width=0.25, label='Recovered', align='center')\n",
        "\n",
        "plt.xticks([i + 0.25 for i in x], labels)\n",
        "plt.ylabel(\"Cases\")\n",
        "plt.title(\"COVID-19 Case Comparison: India vs Kenya\")\n",
        "plt.legend()\n",
        "plt.tight_layout()\n",
        "plt.show()\n"
      ],
      "metadata": {
        "colab": {
          "base_uri": "https://localhost:8080/",
          "height": 607
        },
        "id": "G7Y2MZeD4iV8",
        "outputId": "bfd45621-9083-4dcb-8162-928c9002c4e0"
      },
      "execution_count": 8,
      "outputs": [
        {
          "output_type": "display_data",
          "data": {
            "text/plain": [
              "<Figure size 1000x600 with 1 Axes>"
            ],
            "image/png": "[encoded data removed]"
          },
          "metadata": {}
        }
      ]
    },
    {
      "cell_type": "code",
      "source": [
        "death_rate = filtered_df['Deaths / 100 Cases']\n",
        "recovery_rate = filtered_df['Recovered / 100 Cases']\n",
        "\n",
        "plt.figure(figsize=(8, 5))\n",
        "plt.bar(labels, death_rate, width=0.4, label='Deaths / 100 Cases', alpha=0.7)\n",
        "plt.bar(labels, recovery_rate, width=0.4, label='Recovered / 100 Cases', alpha=0.7, bottom=death_rate)\n",
        "\n",
        "plt.ylabel(\"%\")\n",
        "plt.title(\"Mortality vs Recovery Rates\")\n",
        "plt.legend()\n",
        "plt.tight_layout()\n",
        "plt.show()\n"
      ],
      "metadata": {
        "colab": {
          "base_uri": "https://localhost:8080/",
          "height": 507
        },
        "id": "LIa8pAtR5F3H",
        "outputId": "195da379-3ee8-4b17-9d4f-acbc08c406a9"
      },
      "execution_count": 9,
      "outputs": [
        {
          "output_type": "display_data",
          "data": {
            "text/plain": [
              "<Figure size 800x500 with 1 Axes>"
            ],
            "image/png": "[encoded data removed]"
          },
          "metadata": {}
        }
      ]
    }
  ]
}